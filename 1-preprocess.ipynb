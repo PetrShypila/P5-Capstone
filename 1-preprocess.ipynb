{
 "cells": [
  {
   "cell_type": "code",
   "execution_count": 1,
   "metadata": {
    "collapsed": true
   },
   "outputs": [],
   "source": [
    "from __future__ import print_function\n",
    "import matplotlib.pyplot as plt\n",
    "import numpy as np\n",
    "import os\n",
    "import sys\n",
    "import tarfile\n",
    "import tensorflow as tf\n",
    "from IPython.display import Image\n",
    "from scipy import ndimage\n",
    "from six.moves.urllib.request import urlretrieve\n",
    "from six.moves import cPickle as pickle\n",
    "%matplotlib inline"
   ]
  },
  {
   "cell_type": "code",
   "execution_count": 2,
   "metadata": {
    "collapsed": true
   },
   "outputs": [],
   "source": [
    "url = 'http://ufldl.stanford.edu/housenumbers/'\n",
    "last_percent_reported = None\n",
    "\n",
    "\n",
    "def download_progress_hook(count, blockSize, totalSize):\n",
    "    \"\"\"\n",
    "    A hook to report the progress of a download. This is mostly intended for users with\n",
    "    slow internet connections. Reports every 1% change in download progress.\n",
    "    \"\"\"\n",
    "    global last_percent_reported\n",
    "    percent = int(count * blockSize * 100 / totalSize)\n",
    "\n",
    "    if last_percent_reported != percent:\n",
    "        if percent % 5 == 0:\n",
    "            sys.stdout.write(\"%s%%\" % percent)\n",
    "            sys.stdout.flush()\n",
    "        else:\n",
    "            sys.stdout.write(\".\")\n",
    "            sys.stdout.flush()\n",
    "\n",
    "        last_percent_reported = percent\n",
    "        \n",
    "        \n",
    "def maybe_download(filename, force=False):\n",
    "    \"\"\"\n",
    "    Download a file if not present, and make sure it's the right size.\n",
    "    \"\"\"\n",
    "    if force or not os.path.exists(filename):\n",
    "        print('Attempting to download:', filename) \n",
    "        filename, _ = urlretrieve(url + filename, filename, reporthook=download_progress_hook)\n",
    "        print('\\nDownload Complete!')\n",
    "    else:\n",
    "        print(filename, 'is already downloaded. Skipped.')\n",
    "    return filename"
   ]
  },
  {
   "cell_type": "code",
   "execution_count": 3,
   "metadata": {
    "collapsed": false
   },
   "outputs": [
    {
     "name": "stdout",
     "output_type": "stream",
     "text": [
      "train.tar.gz is already downloaded. Skipped.\n"
     ]
    }
   ],
   "source": [
    "train_filename = maybe_download('train.tar.gz')"
   ]
  },
  {
   "cell_type": "code",
   "execution_count": 4,
   "metadata": {
    "collapsed": false
   },
   "outputs": [
    {
     "name": "stdout",
     "output_type": "stream",
     "text": [
      "test.tar.gz is already downloaded. Skipped.\n"
     ]
    }
   ],
   "source": [
    "test_filename = maybe_download('test.tar.gz')"
   ]
  },
  {
   "cell_type": "code",
   "execution_count": 5,
   "metadata": {
    "collapsed": false
   },
   "outputs": [
    {
     "name": "stdout",
     "output_type": "stream",
     "text": [
      "extra.tar.gz is already downloaded. Skipped.\n"
     ]
    }
   ],
   "source": [
    "extra_filename = maybe_download('extra.tar.gz')"
   ]
  },
  {
   "cell_type": "code",
   "execution_count": 6,
   "metadata": {
    "collapsed": false
   },
   "outputs": [],
   "source": [
    "np.random.seed(133)\n",
    "\n",
    "\n",
    "def maybe_extract(file_, force=False):\n",
    "    filename = os.path.splitext(os.path.splitext(file_)[0])[0]  # remove .tar.gz\n",
    "    \n",
    "    if os.path.isdir(filename) and not force:\n",
    "        # You may override by setting force=True.\n",
    "        print('%s is already presented - Skipping extraction of %s.' % (filename, file_))\n",
    "    else:\n",
    "        print('Extracting %s file data. Please wait...' % file_)\n",
    "        tar = tarfile.open(file_)\n",
    "        sys.stdout.flush()\n",
    "        tar.extractall()\n",
    "        tar.close()\n",
    "        print('File %s is successfully extracted into %s directory.' % (file_, filename))        \n",
    "    \n",
    "    return filename"
   ]
  },
  {
   "cell_type": "code",
   "execution_count": 7,
   "metadata": {
    "collapsed": false
   },
   "outputs": [
    {
     "name": "stdout",
     "output_type": "stream",
     "text": [
      "Extracting train.tar.gz file data. Please wait...\n",
      "File train.tar.gz is successfully extracted into train directory.\n"
     ]
    }
   ],
   "source": [
    "# Variables contain directory names where data is extracted\n",
    "train_folder = maybe_extract(train_filename)"
   ]
  },
  {
   "cell_type": "code",
   "execution_count": 8,
   "metadata": {
    "collapsed": false
   },
   "outputs": [
    {
     "name": "stdout",
     "output_type": "stream",
     "text": [
      "Extracting test.tar.gz file data. Please wait...\n",
      "File test.tar.gz is successfully extracted into test directory.\n"
     ]
    }
   ],
   "source": [
    "test_folder = maybe_extract(test_filename)"
   ]
  },
  {
   "cell_type": "code",
   "execution_count": 9,
   "metadata": {
    "collapsed": false
   },
   "outputs": [
    {
     "name": "stdout",
     "output_type": "stream",
     "text": [
      "Extracting extra.tar.gz file data. Please wait...\n",
      "File extra.tar.gz is successfully extracted into extra directory.\n"
     ]
    }
   ],
   "source": [
    "extra_folder = maybe_extract(extra_filename)"
   ]
  },
  {
   "cell_type": "code",
   "execution_count": 10,
   "metadata": {
    "collapsed": true
   },
   "outputs": [],
   "source": [
    "def remove_anomaly_samples(data, max_class_length = 5):\n",
    "    \"\"\"\n",
    "    Here we remove all data which has class length higher than specified value.\n",
    "    \"\"\"\n",
    "    print(\"\\nDataset size before update:\", len(data))\n",
    "    \n",
    "    for i in range(len(data)):\n",
    "        if i < len(data) and len(data[i]['label']) > max_class_length:\n",
    "            print(\"\\nAnomaly at index %d detected. Class size: %d\" % (i, len(data[i]['label'])))\n",
    "            del data[i]\n",
    "            \n",
    "    print(\"\\nDataset after before update:\", len(data))            \n",
    "    return data"
   ]
  },
  {
   "cell_type": "code",
   "execution_count": 11,
   "metadata": {
    "collapsed": true
   },
   "outputs": [],
   "source": [
    "import h5py\n",
    "\n",
    "# The DigitStructFile is just a wrapper around the h5py data.  It basically references \n",
    "#     file_:            The input h5 matlab file\n",
    "#     digitStructName   The h5 ref to all the file names\n",
    "#     digitStructBbox   The h5 ref to all struc data\n",
    "class DigitStructsWrapper:\n",
    "    def __init__(self, file_, start_ = 0, end_ = 0):\n",
    "        self.file_ = h5py.File(file_, 'r')\n",
    "        self.names = self.file_['digitStruct']['name'][start_:end_] if end_ > 0 else self.file_['digitStruct']['name']\n",
    "        self.bboxes = self.file_['digitStruct']['bbox'][start_:end_] if end_ > 0 else self.file_['digitStruct']['bbox']\n",
    "        self.collectionSize = len(self.names)\n",
    "        print(\"\\n%s file structure contain %d entries\" % (file_, self.collectionSize))\n",
    "        \n",
    "        \n",
    "    def bboxHelper(self, keys_):\n",
    "        \"\"\"\n",
    "        Method handles the coding difference when there is exactly one bbox or an array of bbox. \n",
    "        \"\"\"\n",
    "        if (len(keys_) > 1):\n",
    "            val = [self.file_[keys_.value[j].item()].value[0][0] for j in range(len(keys_))]\n",
    "        else:\n",
    "            val = [keys_.value[0][0]]\n",
    "        return val\n",
    "\n",
    "    \n",
    "    # getBbox returns a dict of data for the n(th) bbox. \n",
    "    def getBbox(self, n):\n",
    "        bbox = {}\n",
    "        bb = self.bboxes[n].item()\n",
    "        bbox['height'] = self.bboxHelper(self.file_[bb][\"height\"])\n",
    "        bbox['left'] = self.bboxHelper(self.file_[bb][\"left\"])\n",
    "        bbox['top'] = self.bboxHelper(self.file_[bb][\"top\"])\n",
    "        bbox['width'] = self.bboxHelper(self.file_[bb][\"width\"])\n",
    "        bbox['label'] = self.bboxHelper(self.file_[bb][\"label\"])\n",
    "        return bbox\n",
    "\n",
    "    \n",
    "    def getName(self, n):\n",
    "        \"\"\"\n",
    "        Method returns the filename for the n(th) digitStruct. Since each letter is stored in a structure \n",
    "        as array of ANSII char numbers we should convert it back by calling chr function.\n",
    "        \"\"\"\n",
    "        return ''.join([chr(c[0]) for c in self.file_[self.names[n][0]].value])\n",
    "\n",
    "    \n",
    "    def getNumberStructure(self,n):\n",
    "        s = self.getBbox(n)\n",
    "        s['name']=self.getName(n)\n",
    "        return s\n",
    "\n",
    "    def getAllNumbersStructure(self):\n",
    "        \"\"\"\n",
    "        Method returns an array, which contains information about every image.\n",
    "        This info contains: positions, labels \n",
    "        \"\"\"\n",
    "        return [self.getNumberStructure(i) for i in range(self.collectionSize)]\n",
    "\n",
    "    \n",
    "    # Return a restructured version of the dataset (one object per digit in 'boxes').\n",
    "    #\n",
    "    #   Return a list of dicts :\n",
    "    #      'filename' : filename of the samples\n",
    "    #      'boxes' : list of dicts (one by digit) :\n",
    "    #          'label' : 1 to 9 corresponding digits. 10 for digit '0' in image.\n",
    "    #          'left', 'top' : position of bounding box\n",
    "    #          'width', 'height' : dimension of bounding box\n",
    "    #\n",
    "    # Note: We may turn this to a generator, if memory issues arise.\n",
    "    def getAllNumbersRestructured(self): # getAllDigitStructure_ByDigit\n",
    "        numbersData = self.getAllNumbersStructure()\n",
    "        print(\"\\nObject structure before transforming: \", numbersData[0])\n",
    "        remove_anomaly_samples(numbersData)\n",
    "        \n",
    "        result = []\n",
    "        for numData in numbersData:\n",
    "            metadatas = []\n",
    "            for i in range(len(numData['height'])):\n",
    "                metadata = {}\n",
    "                metadata['height'] = numData['height'][i]\n",
    "                metadata['label']  = numData['label'][i]\n",
    "                metadata['left']   = numData['left'][i]\n",
    "                metadata['top']    = numData['top'][i]\n",
    "                metadata['width']  = numData['width'][i]\n",
    "                metadatas.append(metadata)\n",
    "                \n",
    "            result.append({ 'boxes':metadatas, 'name':numData[\"name\"] })\n",
    "            \n",
    "        print(\"\\nObject structure after transforming: \", result[0])\n",
    "        \n",
    "        return result"
   ]
  },
  {
   "cell_type": "code",
   "execution_count": 12,
   "metadata": {
    "collapsed": false
   },
   "outputs": [
    {
     "name": "stdout",
     "output_type": "stream",
     "text": [
      "\n",
      "train/digitStruct.mat file structure contain 33402 entries\n",
      "\n",
      "Object structure before transforming:  {'name': '1.png', 'top': [77.0, 81.0], 'label': [1.0, 9.0], 'width': [81.0, 96.0], 'height': [219.0, 219.0], 'left': [246.0, 323.0]}\n",
      "\n",
      "Dataset size before update: 33402\n",
      "\n",
      "Anomaly at index 29929 detected. Class size: 6\n",
      "\n",
      "Dataset after before update: 33401\n",
      "\n",
      "Object structure after transforming:  {'boxes': [{'width': 81.0, 'top': 77.0, 'label': 1.0, 'left': 246.0, 'height': 219.0}, {'width': 96.0, 'top': 81.0, 'label': 9.0, 'left': 323.0, 'height': 219.0}], 'name': '1.png'}\n"
     ]
    }
   ],
   "source": [
    "file_ = os.path.join(train_folder, 'digitStruct.mat')\n",
    "dsf = DigitStructsWrapper(file_)\n",
    "train_data = dsf.getAllNumbersRestructured()"
   ]
  },
  {
   "cell_type": "code",
   "execution_count": 13,
   "metadata": {
    "collapsed": false
   },
   "outputs": [
    {
     "name": "stdout",
     "output_type": "stream",
     "text": [
      "\n",
      "test/digitStruct.mat file structure contain 13068 entries\n",
      "\n",
      "Object structure before transforming:  {'name': '1.png', 'top': [7.0], 'label': [5.0], 'width': [19.0], 'height': [30.0], 'left': [43.0]}\n",
      "\n",
      "Dataset size before update: 13068\n",
      "\n",
      "Dataset after before update: 13068\n",
      "\n",
      "Object structure after transforming:  {'boxes': [{'width': 19.0, 'top': 7.0, 'label': 5.0, 'left': 43.0, 'height': 30.0}], 'name': '1.png'}\n"
     ]
    }
   ],
   "source": [
    "file_ = os.path.join(test_folder, 'digitStruct.mat')\n",
    "dsf = DigitStructsWrapper(file_)\n",
    "test_data = dsf.getAllNumbersRestructured()"
   ]
  },
  {
   "cell_type": "code",
   "execution_count": 14,
   "metadata": {
    "collapsed": false
   },
   "outputs": [
    {
     "name": "stdout",
     "output_type": "stream",
     "text": [
      "\n",
      "extra/digitStruct.mat file structure contain 50000 entries\n",
      "\n",
      "Object structure before transforming:  {'name': '1.png', 'top': [70.0, 41.0, 23.0], 'label': [4.0, 7.0, 8.0], 'width': [38.0, 36.0, 47.0], 'height': [56.0, 56.0, 56.0], 'left': [24.0, 55.0, 79.0]}\n",
      "\n",
      "Dataset size before update: 50000\n",
      "\n",
      "Dataset after before update: 50000\n",
      "\n",
      "Object structure after transforming:  {'boxes': [{'width': 38.0, 'top': 70.0, 'label': 4.0, 'left': 24.0, 'height': 56.0}, {'width': 36.0, 'top': 41.0, 'label': 7.0, 'left': 55.0, 'height': 56.0}, {'width': 47.0, 'top': 23.0, 'label': 8.0, 'left': 79.0, 'height': 56.0}], 'name': '1.png'}\n"
     ]
    }
   ],
   "source": [
    "file_ = os.path.join(extra_folder, 'digitStruct.mat')\n",
    "dsf = DigitStructsWrapper(file_, 0, 50000)\n",
    "extra_data = dsf.getAllNumbersRestructured()"
   ]
  },
  {
   "cell_type": "code",
   "execution_count": 15,
   "metadata": {
    "collapsed": false
   },
   "outputs": [],
   "source": [
    "from PIL import Image\n",
    "\n",
    "def print_data_stats(data, folder):\n",
    "    data_imgSize = np.ndarray([len(data),2])\n",
    "\n",
    "    for i in np.arange(len(data)):\n",
    "        filename = data[i]['name']\n",
    "        filepath = os.path.join(folder, filename)\n",
    "        data_imgSize[i, :] = Image.open(filepath).size[:]\n",
    "\n",
    "    max_w, max_h = np.amax(data_imgSize[:,0]), np.amax(data_imgSize[:,1])\n",
    "    min_w, min_h = np.amin(data_imgSize[:,0]), np.amin(data_imgSize[:,1])\n",
    "    mean_w, mean_h = np.mean(data_imgSize[:,0]), np.mean(data_imgSize[:,1])\n",
    "    print(folder, \"max width and height:\", max_w, max_h) \n",
    "    print(folder, \"min width and height:\", min_w, min_h)\n",
    "    print(folder, \"mean width and height:\", mean_w, mean_h, \"\\n\")\n",
    "    \n",
    "    max_w_i, max_h_i = np.where(data_imgSize[:,0] == max_w), np.where(data_imgSize[:,1] == max_h)\n",
    "    print(folder, \"max width indicies:\", max_w_i) \n",
    "    print(folder, \"max height indicies:\", max_h_i, \"\\n\")\n",
    "    \n",
    "    \n",
    "    min_w_i, min_h_i = np.where(data_imgSize[:,0] == min_w), np.where(data_imgSize[:,1] == min_h)\n",
    "    print(folder, \"min width indicies:\", min_w_i) \n",
    "    print(folder, \"min height indicies:\", min_h_i, \"\\n***\\n\")"
   ]
  },
  {
   "cell_type": "code",
   "execution_count": 16,
   "metadata": {
    "collapsed": false
   },
   "outputs": [
    {
     "name": "stdout",
     "output_type": "stream",
     "text": [
      "train max width and height: 876.0 501.0\n",
      "train min width and height: 25.0 12.0\n",
      "train mean width and height: 128.286338732 57.2139456902 \n",
      "\n",
      "train max width indicies: (array([  410,  4163, 15855, 30483]),)\n",
      "train max height indicies: (array([15855]),) \n",
      "\n",
      "train min width indicies: (array([9747]),)\n",
      "train min height indicies: (array([ 1813,  2291,  4829,  5691,  9488,  9747,  9831, 10175, 10938,\n",
      "       14902, 16284, 20314, 20775, 21544, 22330, 24015, 25438, 26047,\n",
      "       26345, 27062, 27160, 27593, 27959, 29526, 29701, 30064, 30089,\n",
      "       30462, 30947, 32339, 32351, 32539, 32567, 33141, 33180, 33202]),) \n",
      "***\n",
      "\n",
      "test max width and height: 1083.0 516.0\n",
      "test min width and height: 31.0 13.0\n",
      "test mean width and height: 172.583486379 71.5664983165 \n",
      "\n",
      "test max width indicies: (array([ 1722,  2949,  6233, 12862]),)\n",
      "test max height indicies: (array([14]),) \n",
      "\n",
      "test min width indicies: (array([  459,  5352,  7776, 11257, 12191]),)\n",
      "test min height indicies: (array([ 145, 1591, 5352, 7776]),) \n",
      "***\n",
      "\n",
      "extra max width and height: 668.0 356.0\n",
      "extra min width and height: 22.0 13.0\n",
      "extra mean width and height: 100.04358 60.72528 \n",
      "\n",
      "extra max width indicies: (array([32352]),)\n",
      "extra max height indicies: (array([43845]),) \n",
      "\n",
      "extra min width indicies: (array([19731, 25534]),)\n",
      "extra min height indicies: (array([ 9662, 26875, 27476, 42560, 49492]),) \n",
      "***\n",
      "\n"
     ]
    }
   ],
   "source": [
    "print_data_stats(train_data, train_folder)\n",
    "print_data_stats(test_data, test_folder)\n",
    "print_data_stats(extra_data, extra_folder)"
   ]
  },
  {
   "cell_type": "code",
   "execution_count": 17,
   "metadata": {
    "collapsed": false
   },
   "outputs": [],
   "source": [
    "img_size = 32\n",
    "\n",
    "def prepare_images(samples, folder):\n",
    "    print(\"Started preparing images for convnet...\")\n",
    "    \n",
    "    prepared_images = np.ndarray([len(samples),img_size,img_size,1], dtype='float32')\n",
    "    actual_numbers = np.ones([len(samples),6], dtype=int) * 10\n",
    "    files = []\n",
    "    for i in range(len(samples)):\n",
    "        filename = samples[i]['name']\n",
    "        filepath = os.path.join(folder, filename)\n",
    "        image = Image.open(filepath)\n",
    "        boxes = samples[i]['boxes']\n",
    "        number_length = len(boxes)\n",
    "        files.append(filename)\n",
    "        \n",
    "        # at 0 index we store length of a label. 3 -> 1; 123-> 3, 12543 -> 5\n",
    "        actual_numbers[i,0] = number_length\n",
    "        \n",
    "        top = np.ndarray([number_length], dtype='float32')\n",
    "        left = np.ndarray([number_length], dtype='float32')\n",
    "        height = np.ndarray([number_length], dtype='float32')\n",
    "        width = np.ndarray([number_length], dtype='float32')\n",
    "        \n",
    "        for j in range(number_length):\n",
    "            # here we use j+1 since first entry used by label length\n",
    "            actual_numbers[i,j+1] = boxes[j]['label']\n",
    "            if boxes[j]['label'] == 10: # Replacing 10 with 0\n",
    "                actual_numbers[i,j+1] = 0\n",
    "                \n",
    "            top[j] = boxes[j]['top']\n",
    "            left[j] = boxes[j]['left']\n",
    "            height[j] = boxes[j]['height']\n",
    "            width[j] = boxes[j]['width']\n",
    "        \n",
    "        img_min_top = np.amin(top)\n",
    "        img_min_left = np.amin(left)\n",
    "        img_height = np.amax(top) + height[np.argmax(top)] - img_min_top\n",
    "        img_width = np.amax(left) + width[np.argmax(left)] - img_min_left\n",
    "\n",
    "        img_left = np.floor(img_min_left - 0.1 * img_width)\n",
    "        img_top = np.floor(img_min_top - 0.1 * img_height)\n",
    "        img_right = np.amin([np.ceil(img_left + 1.2 * img_width), image.size[0]])\n",
    "        img_bottom = np.amin([np.ceil(img_top + 1.2 * img_height), image.size[1]])\n",
    "            \n",
    "        image = image.crop((img_left, img_top, img_right, img_bottom)).resize([img_size, img_size], Image.ANTIALIAS) # Resize image to 32x32\n",
    "        image = np.dot(np.array(image, dtype='float32'), [[0.2989],[0.5870],[0.1140]]) # Convert image to the grayscale\n",
    "\n",
    "        mean = np.mean(image, dtype='float32')\n",
    "        std = np.std(image, dtype='float32', ddof=1)\n",
    "        if std < 0.0001: \n",
    "            std = 1.0\n",
    "        image = (image - mean) / std\n",
    "        prepared_images[i,:,:] = image[:,:,:]\n",
    "        \n",
    "    print(\"Completed. Images cropped, resized and grayscaled\")\n",
    "    \n",
    "    return prepared_images, actual_numbers, files"
   ]
  },
  {
   "cell_type": "code",
   "execution_count": 18,
   "metadata": {
    "collapsed": false
   },
   "outputs": [
    {
     "name": "stdout",
     "output_type": "stream",
     "text": [
      "Started preparing images for convnet...\n",
      "Completed. Images cropped, resized and grayscaled\n",
      "(33401, 32, 32, 1) (33401, 6)\n"
     ]
    }
   ],
   "source": [
    "train_data, train_labels, _ = prepare_images(train_data, train_folder)\n",
    "print(train_data.shape, train_labels.shape)"
   ]
  },
  {
   "cell_type": "code",
   "execution_count": 19,
   "metadata": {
    "collapsed": false
   },
   "outputs": [
    {
     "name": "stdout",
     "output_type": "stream",
     "text": [
      "Started preparing images for convnet...\n",
      "Completed. Images cropped, resized and grayscaled\n",
      "(13068, 32, 32, 1) (13068, 6)\n"
     ]
    }
   ],
   "source": [
    "test_data, test_labels, test_filenames = prepare_images(test_data, test_folder)\n",
    "print(test_data.shape, test_labels.shape)"
   ]
  },
  {
   "cell_type": "code",
   "execution_count": 20,
   "metadata": {
    "collapsed": false
   },
   "outputs": [
    {
     "name": "stdout",
     "output_type": "stream",
     "text": [
      "Started preparing images for convnet...\n",
      "Completed. Images cropped, resized and grayscaled\n",
      "(50000, 32, 32, 1) (50000, 32, 32, 1)\n"
     ]
    }
   ],
   "source": [
    "extra_data, extra_labels, _ = prepare_images(extra_data, extra_folder)\n",
    "print(extra_data.shape, extra_data.shape)"
   ]
  },
  {
   "cell_type": "code",
   "execution_count": 21,
   "metadata": {
    "collapsed": false
   },
   "outputs": [
    {
     "name": "stdout",
     "output_type": "stream",
     "text": [
      "[[ 3  4  7  8 10 10]\n",
      " [ 2  7  1 10 10 10]\n",
      " [ 3  1  7  4 10 10]\n",
      " [ 2  3  0 10 10 10]\n",
      " [ 3  2  8  8 10 10]\n",
      " [ 2  3  1 10 10 10]\n",
      " [ 3  1  7  0 10 10]\n",
      " [ 2  8  1 10 10 10]\n",
      " [ 2  5  6 10 10 10]\n",
      " [ 3  4  4  4 10 10]]\n"
     ]
    }
   ],
   "source": [
    "print(extra_labels[:10])"
   ]
  },
  {
   "cell_type": "code",
   "execution_count": 22,
   "metadata": {
    "collapsed": false
   },
   "outputs": [
    {
     "name": "stdout",
     "output_type": "stream",
     "text": [
      "\n",
      "Train shapes: (73401, 32, 32, 1) (73401, 6)\n",
      "Extra shapes: (10000, 32, 32, 1) (10000, 6)\n",
      "Test shapes: (13068, 32, 32, 1) (13068, 6)\n"
     ]
    }
   ],
   "source": [
    "from sklearn.utils import shuffle\n",
    "\n",
    "# Here we add new data to our training set from extra set.\n",
    "# Then we remove this part from memory to free it\n",
    "train_data_temp = np.concatenate((train_data, extra_data[:40000, :, :, :]))\n",
    "extra_data_temp = np.delete(extra_data, np.arange(40000), axis=0)\n",
    "\n",
    "train_labels_temp = np.concatenate((train_labels, extra_labels[:40000]))\n",
    "extra_labels_temp = np.delete(extra_labels, np.arange(40000), axis=0)\n",
    "\n",
    "# And then we shuffle all the data we have\n",
    "train_data_temp, train_labels_temp = shuffle(train_data_temp, train_labels_temp)\n",
    "extra_data_temp, extra_labels_temp = shuffle(extra_data_temp, extra_labels_temp)\n",
    "test_data_temp, test_labels_temp, test_filenames_temp = shuffle(test_data, test_labels, test_filenames)\n",
    "\n",
    "print(\"\\nTrain shapes:\", train_data_temp.shape, train_labels_temp.shape)\n",
    "print(\"Extra shapes:\", extra_data_temp.shape, extra_labels_temp.shape)\n",
    "print(\"Test shapes:\", test_data_temp.shape, test_labels_temp.shape)"
   ]
  },
  {
   "cell_type": "code",
   "execution_count": 23,
   "metadata": {
    "collapsed": false
   },
   "outputs": [
    {
     "name": "stdout",
     "output_type": "stream",
     "text": [
      "Compressed pickle size: 399965309\n"
     ]
    }
   ],
   "source": [
    "pickle_file = 'SVHN.pickle'\n",
    "\n",
    "try:\n",
    "    f = open(pickle_file, 'wb')\n",
    "    save = {\n",
    "        'train_data': train_data_temp,\n",
    "        'train_labels': train_labels_temp,\n",
    "        'test_data': test_data_temp,\n",
    "        'test_labels': test_labels_temp,\n",
    "        'test_filenames': test_filenames_temp,\n",
    "        'valid_data': extra_data_temp, # The rest of extra data will be used \n",
    "        'valid_labels': extra_labels_temp # as validation set during model training\n",
    "        }\n",
    "    pickle.dump(save, f, pickle.HIGHEST_PROTOCOL)\n",
    "    f.close()\n",
    "except Exception as e:\n",
    "    print('Unable to save data to', pickle_file, ':', e)\n",
    "    raise\n",
    "    \n",
    "statinfo = os.stat(pickle_file)\n",
    "print('Compressed pickle size:', statinfo.st_size)"
   ]
  },
  {
   "cell_type": "code",
   "execution_count": 24,
   "metadata": {
    "collapsed": false
   },
   "outputs": [],
   "source": [
    "from collections import Counter\n",
    "\n",
    "train_num_length = Counter(train_labels_temp[:,0])\n",
    "test_num_length = Counter(test_labels_temp[:,0])\n",
    "extra_num_length = Counter(extra_labels_temp[:,0])"
   ]
  },
  {
   "cell_type": "code",
   "execution_count": 25,
   "metadata": {
    "collapsed": false
   },
   "outputs": [
    {
     "data": {
      "image/png": "[encoded data removed]",
      "text/plain": [
       "<matplotlib.figure.Figure at 0x1131cd890>"
      ]
     },
     "metadata": {},
     "output_type": "display_data"
    }
   ],
   "source": [
    "import matplotlib.pyplot as plt\n",
    "\n",
    "plt.figure(1)\n",
    "\n",
    "plt.subplot(221)\n",
    "plt.bar(train_num_length.keys(), train_num_length.values(), align='center')\n",
    "plt.xticks(train_num_length.keys())\n",
    "plt.title('Train')\n",
    "plt.xlabel('Labels')\n",
    "plt.ylabel('Occurencies')\n",
    "\n",
    "plt.subplot(222)\n",
    "plt.bar(test_num_length.keys(), test_num_length.values(), align='center')\n",
    "plt.xticks(test_num_length.keys())\n",
    "plt.title('Test')\n",
    "plt.xlabel('Labels')\n",
    "plt.ylabel('Occurencies')\n",
    "\n",
    "plt.subplot(223)\n",
    "plt.bar(extra_num_length.keys(), extra_num_length.values(), align='center')\n",
    "plt.xticks(test_num_length.keys())\n",
    "plt.title('Extra')\n",
    "plt.xlabel('Labels')\n",
    "plt.ylabel('Occurencies')\n",
    "\n",
    "plt.show()"
   ]
  },
  {
   "cell_type": "code",
   "execution_count": 26,
   "metadata": {
    "collapsed": false
   },
   "outputs": [],
   "source": [
    "pickle_file = 'SVHN.pickle'\n",
    "\n",
    "with open(pickle_file, 'rb') as f:\n",
    "    save = pickle.load(f)\n",
    "    train_labels = save['train_labels']\n",
    "    test_labels = save['test_labels']\n",
    "    valid_labels = save['valid_labels']\n",
    "    del save"
   ]
  },
  {
   "cell_type": "code",
   "execution_count": 27,
   "metadata": {
    "collapsed": false
   },
   "outputs": [],
   "source": [
    "from collections import Counter\n",
    "\n",
    "# Remove classes of empty labels\n",
    "train_digits = Counter(train_labels.flatten()[np.where(train_labels.flatten() != 10)])\n",
    "test_digits = Counter(test_labels.flatten()[np.where(test_labels.flatten() != 10)])\n",
    "valid_digits = Counter(valid_labels.flatten()[np.where(valid_labels.flatten() != 10)])"
   ]
  },
  {
   "cell_type": "code",
   "execution_count": 28,
   "metadata": {
    "collapsed": false
   },
   "outputs": [
    {
     "data": {
      "image/png": "[encoded data removed]",
      "text/plain": [
       "<matplotlib.figure.Figure at 0x111576510>"
      ]
     },
     "metadata": {},
     "output_type": "display_data"
    }
   ],
   "source": [
    "\n",
    "import matplotlib.pyplot as plt\n",
    "%matplotlib inline\n",
    "\n",
    "f, (ax1, ax2, ax3) = plt.subplots(1, 3, figsize=(20, 5))\n",
    "\n",
    "ax1.bar(train_digits.keys(), train_digits.values(), align='center')\n",
    "ax1.set_xticks(train_digits.keys())\n",
    "ax1.set_title('Train')\n",
    "ax1.set_xlabel('Labels')\n",
    "ax1.set_ylabel('Occurencies')\n",
    "\n",
    "ax2.bar(test_digits.keys(), test_digits.values(), align='center')\n",
    "ax2.set_xticks(test_digits.keys())\n",
    "ax2.set_title('Test')\n",
    "ax2.set_xlabel('Labels')\n",
    "ax2.set_ylabel('Occurencies')\n",
    "\n",
    "ax3.bar(valid_digits.keys(), valid_digits.values(), align='center')\n",
    "ax3.set_xticks(valid_digits.keys())\n",
    "ax3.set_title('Validation')\n",
    "ax3.set_xlabel('Labels')\n",
    "ax3.set_ylabel('Occurencies')\n",
    "\n",
    "plt.show()"
   ]
  }
 ],
 "metadata": {
  "kernelspec": {
   "display_name": "Python 2",
   "language": "python",
   "name": "python2"
  },
  "language_info": {
   "codemirror_mode": {
    "name": "ipython",
    "version": 2
   },
   "file_extension": ".py",
   "mimetype": "text/x-python",
   "name": "python",
   "nbconvert_exporter": "python",
   "pygments_lexer": "ipython2",
   "version": "2.7.11"
  }
 },
 "nbformat": 4,
 "nbformat_minor": 0
}
